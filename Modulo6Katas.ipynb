{
 "cells": [
  {
   "cell_type": "markdown",
   "metadata": {},
   "source": [
    "## Introduccion a las listas"
   ]
  },
  {
   "cell_type": "code",
   "execution_count": 7,
   "metadata": {},
   "outputs": [
    {
     "name": "stdout",
     "output_type": "stream",
     "text": [
      "Los planetas del sistema solar son: 8 sin contar a pluton\n",
      "Los planetas del sistema solar son: 9 con el nuevo planeta agregado\n",
      "Pluton es el ultimo planeta del sistema solar en ser agregado\n"
     ]
    }
   ],
   "source": [
    "# Ejercicio 1 crear listas\n",
    "planetas = [\"Mercurio\", \"Venus\", \"Tierra\", \"Marte\", \"Jupiter\", \"Saturno\", \"Urano\", \"Neptuno\"]\n",
    "print(\"Los planetas del sistema solar son:\", len(planetas), \"sin contar a pluton\")\n",
    "planetas.append(\"Pluton\") #agregando a pluton a la lista\n",
    "print(\"Los planetas del sistema solar son:\", len(planetas), \"con el nuevo planeta agregado\")\n",
    "print(planetas[-1], \"es el ultimo planeta del sistema solar en ser agregado\")"
   ]
  },
  {
   "cell_type": "code",
   "execution_count": 12,
   "metadata": {},
   "outputs": [
    {
     "name": "stdout",
     "output_type": "stream",
     "text": [
      "Los planetas mas cercanos al sol del que ingreso, Jupiter\n",
      "['Mercurio', 'Venus', 'Tierra', 'Marte']\n",
      "Los planetas mas lejano al sol del que ingreso, Jupiter\n",
      "['Saturno', 'Neptuno']\n"
     ]
    }
   ],
   "source": [
    "#Ejercicio 2\n",
    "#lista de planetas3\n",
    "planetas2 = [\"Mercurio\", \"Venus\", \"Tierra\", \"Marte\", \"Jupiter\", \"Saturno\", \"Neptuno\"]\n",
    "planetaUsuario = input(\"Ingresa el nombre de un planteta, recuerda la primera letra mayuscula\")\n",
    "busqueda = planetas2.index(planetaUsuario)\n",
    "print(\"Los planetas mas cercanos al sol del que ingreso,\", planetaUsuario)\n",
    "print(planetas2[0:busqueda])\n",
    "print(\"Los planetas mas lejano al sol del que ingreso,\", planetaUsuario)\n",
    "print(planetas2[busqueda+1: ])"
   ]
  }
 ],
 "metadata": {
  "interpreter": {
   "hash": "33541a670e8887513ebdf0f19cec6625b51694c5ef6b1c7e83282c54d5cd54e5"
  },
  "kernelspec": {
   "display_name": "Python 3.10.2 64-bit",
   "language": "python",
   "name": "python3"
  },
  "language_info": {
   "codemirror_mode": {
    "name": "ipython",
    "version": 3
   },
   "file_extension": ".py",
   "mimetype": "text/x-python",
   "name": "python",
   "nbconvert_exporter": "python",
   "pygments_lexer": "ipython3",
   "version": "3.10.2"
  },
  "orig_nbformat": 4
 },
 "nbformat": 4,
 "nbformat_minor": 2
}
