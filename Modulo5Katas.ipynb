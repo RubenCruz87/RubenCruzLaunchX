{
 "cells": [
  {
   "cell_type": "markdown",
   "metadata": {},
   "source": [
    "## Modulo 5 Operaciones Matematicas\n"
   ]
  },
  {
   "cell_type": "code",
   "execution_count": 2,
   "metadata": {},
   "outputs": [
    {
     "name": "stdout",
     "output_type": "stream",
     "text": [
      "628949330 en kilometros\n",
      "390577533.93 en millas\n"
     ]
    }
   ],
   "source": [
    "# Ejercicio 1\n",
    "\n",
    "#Declaracion de variables\n",
    "distanciaTierra = 149597870\n",
    "distanciaJupiter = 778547200\n",
    "\n",
    "diferencia = distanciaJupiter - distanciaTierra\n",
    "print(diferencia, \"en kilometros\")\n",
    "print(diferencia*0.621, \"en millas\")"
   ]
  },
  {
   "cell_type": "code",
   "execution_count": 8,
   "metadata": {},
   "outputs": [
    {
     "name": "stdout",
     "output_type": "stream",
     "text": [
      "540  kilometros de distancia entre los planetas\n",
      "335.34 millas de distancia entre los planetas\n"
     ]
    }
   ],
   "source": [
    "# Ejercicio 2\n",
    "\n",
    "planeta1 = input(\"¿A que distancia del sol esta el primer planeta?\")\n",
    "planeta2 = input(\"¿A que distancia del sol esta el segundo planeta?\")\n",
    "\n",
    "planeta1 = int(planeta1)\n",
    "planeta2 = int(planeta2)\n",
    "\n",
    "diferencia2 = abs(planeta1-planeta2)\n",
    "print(diferencia2, \" kilometros de distancia entre los planetas\")\n",
    "print(diferencia2*0.621, \"millas de distancia entre los planetas\")\n",
    "\n",
    "\n"
   ]
  },
  {
   "cell_type": "code",
   "execution_count": null,
   "metadata": {},
   "outputs": [],
   "source": []
  }
 ],
 "metadata": {
  "interpreter": {
   "hash": "33541a670e8887513ebdf0f19cec6625b51694c5ef6b1c7e83282c54d5cd54e5"
  },
  "kernelspec": {
   "display_name": "Python 3.10.2 64-bit",
   "language": "python",
   "name": "python3"
  },
  "language_info": {
   "codemirror_mode": {
    "name": "ipython",
    "version": 3
   },
   "file_extension": ".py",
   "mimetype": "text/x-python",
   "name": "python",
   "nbconvert_exporter": "python",
   "pygments_lexer": "ipython3",
   "version": "3.10.2"
  },
  "orig_nbformat": 4
 },
 "nbformat": 4,
 "nbformat_minor": 2
}
