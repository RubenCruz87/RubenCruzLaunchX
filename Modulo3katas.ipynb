{
 "cells": [
  {
   "cell_type": "markdown",
   "metadata": {},
   "source": [
    "## Ejercicio declaraciones\n",
    "if, else y elif"
   ]
  },
  {
   "cell_type": "code",
   "execution_count": 9,
   "metadata": {},
   "outputs": [
    {
     "name": "stdout",
     "output_type": "stream",
     "text": [
      "Advertencia: se detecto un asteroide que viaja hacia la tierra a  49 kilometros por hora, ¡ALERTA MAXIMA!\n"
     ]
    }
   ],
   "source": [
    "#Ejercicio 1\n",
    "velocidadAsteroide = 49\n",
    "\n",
    "if velocidadAsteroide > 25:\n",
    "    print(\"Advertencia: se detecto un asteroide que viaja hacia la tierra a \", velocidadAsteroide, \"kilometros por hora, ¡ALERTA MAXIMA!\")\n",
    "else:\n",
    "    print(\"Este es el sistema de alerta temprana de asteroides, nos encontramos fuera de peligro, siga con su dia :D\")"
   ]
  },
  {
   "cell_type": "code",
   "execution_count": 1,
   "metadata": {},
   "outputs": [
    {
     "name": "stdout",
     "output_type": "stream",
     "text": [
      "Esta es una notificacione del centro nacional de monitoreo de asteroides, no se ha detectado cuerpos extraños en la atmosfera!\n"
     ]
    }
   ],
   "source": [
    "#Ejercicio 2\n",
    "velocidadAsteroide2 = 19\n",
    "if velocidadAsteroide2 > 20:\n",
    "    print(\"Advertencia: se detecto la entrada de un asteroide a la tierra, observa si se puede observar una luz desde el espacio!\")\n",
    "elif velocidadAsteroide2 == 20:\n",
    "    print(\"Advertencia: se detecto la entrada de un asteroide a la tierra, observa una luz en la atmosfera terrestre, \")\n",
    "else:\n",
    "    print(\"Esta es una notificacione del centro nacional de monitoreo de asteroides, no se ha detectado cuerpos extraños en la atmosfera!\")"
   ]
  },
  {
   "cell_type": "code",
   "execution_count": 3,
   "metadata": {},
   "outputs": [
    {
     "name": "stdout",
     "output_type": "stream",
     "text": [
      "Advertencia: observa el cielo, se dectacto una luz desde la atmosfera de la tierra, Alerta Maxima!\n"
     ]
    }
   ],
   "source": [
    "velocidadAsteroide3= 25\n",
    "asteroide = 40\n",
    "if velocidadAsteroide3 > 25 and asteroide > 25:\n",
    "    print(\"Advertencia: Un asteroide se acerca a la Tierra\")\n",
    "elif velocidadAsteroide3 >= 20:\n",
    "    print(\"Advertencia: observa el cielo, se dectacto una luz desde la atmosfera de la tierra, Alerta Maxima!\")\n",
    "elif asteroide < 25:\n",
    "    print(\"Esta es una notificacion del centronacional de monitoreo de asteroides, no se ha detectado cuerpos extraños\")\n",
    "else:\n",
    "    print(\"Esta es una notificacion del centronacional de monitoreo de asteroides, no se ha detectado cuerpos extraños\")"
   ]
  },
  {
   "cell_type": "markdown",
   "metadata": {},
   "source": [
    "Rubén Ernesto Cruz Pérez\n"
   ]
  }
 ],
 "metadata": {
  "interpreter": {
   "hash": "33541a670e8887513ebdf0f19cec6625b51694c5ef6b1c7e83282c54d5cd54e5"
  },
  "kernelspec": {
   "display_name": "Python 3.10.2 64-bit",
   "language": "python",
   "name": "python3"
  },
  "language_info": {
   "codemirror_mode": {
    "name": "ipython",
    "version": 3
   },
   "file_extension": ".py",
   "mimetype": "text/x-python",
   "name": "python",
   "nbconvert_exporter": "python",
   "pygments_lexer": "ipython3",
   "version": "3.10.2"
  },
  "orig_nbformat": 4
 },
 "nbformat": 4,
 "nbformat_minor": 2
}
